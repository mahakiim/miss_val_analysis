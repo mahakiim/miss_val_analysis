{
 "cells": [
  {
   "cell_type": "markdown",
   "metadata": {},
   "source": [
    "Methods #3 -- Interpolate"
   ]
  },
  {
   "cell_type": "code",
   "execution_count": 1,
   "metadata": {},
   "outputs": [
    {
     "name": "stderr",
     "output_type": "stream",
     "text": [
      "<>:6: SyntaxWarning: invalid escape sequence '\\P'\n",
      "<>:6: SyntaxWarning: invalid escape sequence '\\P'\n",
      "C:\\Users\\UsHER\\AppData\\Local\\Temp\\ipykernel_10680\\3408066250.py:6: SyntaxWarning: invalid escape sequence '\\P'\n",
      "  data = pd.read_csv('D:\\Paper_Imputation\\data\\dataset_mitigasi_banjir_fix_banget.csv')\n"
     ]
    },
    {
     "data": {
      "text/html": [
       "<div>\n",
       "<style scoped>\n",
       "    .dataframe tbody tr th:only-of-type {\n",
       "        vertical-align: middle;\n",
       "    }\n",
       "\n",
       "    .dataframe tbody tr th {\n",
       "        vertical-align: top;\n",
       "    }\n",
       "\n",
       "    .dataframe thead th {\n",
       "        text-align: right;\n",
       "    }\n",
       "</style>\n",
       "<table border=\"1\" class=\"dataframe\">\n",
       "  <thead>\n",
       "    <tr style=\"text-align: right;\">\n",
       "      <th></th>\n",
       "      <th>Tanggal</th>\n",
       "      <th>curah_hujan_DK</th>\n",
       "      <th>curah_hujan_BS</th>\n",
       "      <th>debit_sungai_m3_per_detik</th>\n",
       "      <th>tinggi_muka_air_m</th>\n",
       "    </tr>\n",
       "  </thead>\n",
       "  <tbody>\n",
       "    <tr>\n",
       "      <th>0</th>\n",
       "      <td>2015-01-01</td>\n",
       "      <td>33.0</td>\n",
       "      <td>1.0</td>\n",
       "      <td>130.50</td>\n",
       "      <td>5.63</td>\n",
       "    </tr>\n",
       "    <tr>\n",
       "      <th>1</th>\n",
       "      <td>2015-01-02</td>\n",
       "      <td>0.0</td>\n",
       "      <td>NaN</td>\n",
       "      <td>93.50</td>\n",
       "      <td>4.98</td>\n",
       "    </tr>\n",
       "    <tr>\n",
       "      <th>2</th>\n",
       "      <td>2015-01-03</td>\n",
       "      <td>0.0</td>\n",
       "      <td>20.5</td>\n",
       "      <td>79.12</td>\n",
       "      <td>4.69</td>\n",
       "    </tr>\n",
       "    <tr>\n",
       "      <th>3</th>\n",
       "      <td>2015-01-04</td>\n",
       "      <td>11.5</td>\n",
       "      <td>2.0</td>\n",
       "      <td>91.08</td>\n",
       "      <td>4.94</td>\n",
       "    </tr>\n",
       "    <tr>\n",
       "      <th>4</th>\n",
       "      <td>2015-01-05</td>\n",
       "      <td>2.0</td>\n",
       "      <td>NaN</td>\n",
       "      <td>76.00</td>\n",
       "      <td>4.61</td>\n",
       "    </tr>\n",
       "  </tbody>\n",
       "</table>\n",
       "</div>"
      ],
      "text/plain": [
       "      Tanggal  curah_hujan_DK  curah_hujan_BS  debit_sungai_m3_per_detik  \\\n",
       "0  2015-01-01            33.0             1.0                     130.50   \n",
       "1  2015-01-02             0.0             NaN                      93.50   \n",
       "2  2015-01-03             0.0            20.5                      79.12   \n",
       "3  2015-01-04            11.5             2.0                      91.08   \n",
       "4  2015-01-05             2.0             NaN                      76.00   \n",
       "\n",
       "   tinggi_muka_air_m  \n",
       "0               5.63  \n",
       "1               4.98  \n",
       "2               4.69  \n",
       "3               4.94  \n",
       "4               4.61  "
      ]
     },
     "execution_count": 1,
     "metadata": {},
     "output_type": "execute_result"
    }
   ],
   "source": [
    "import pandas as pd\n",
    "import numpy as np\n",
    "import matplotlib.pyplot as plt\n",
    "import seaborn as sns\n",
    "\n",
    "data = pd.read_csv('D:\\Paper_Imputation\\data\\dataset_mitigasi_banjir_fix_banget.csv')\n",
    "\n",
    "data.head()"
   ]
  },
  {
   "cell_type": "code",
   "execution_count": 2,
   "metadata": {},
   "outputs": [],
   "source": [
    "df_interp = data.copy()"
   ]
  },
  {
   "cell_type": "code",
   "execution_count": 3,
   "metadata": {},
   "outputs": [
    {
     "data": {
      "text/html": [
       "<div>\n",
       "<style scoped>\n",
       "    .dataframe tbody tr th:only-of-type {\n",
       "        vertical-align: middle;\n",
       "    }\n",
       "\n",
       "    .dataframe tbody tr th {\n",
       "        vertical-align: top;\n",
       "    }\n",
       "\n",
       "    .dataframe thead th {\n",
       "        text-align: right;\n",
       "    }\n",
       "</style>\n",
       "<table border=\"1\" class=\"dataframe\">\n",
       "  <thead>\n",
       "    <tr style=\"text-align: right;\">\n",
       "      <th></th>\n",
       "      <th>curah_hujan_DK</th>\n",
       "      <th>curah_hujan_BS</th>\n",
       "      <th>debit_sungai_m3_per_detik</th>\n",
       "      <th>tinggi_muka_air_m</th>\n",
       "    </tr>\n",
       "    <tr>\n",
       "      <th>Tanggal</th>\n",
       "      <th></th>\n",
       "      <th></th>\n",
       "      <th></th>\n",
       "      <th></th>\n",
       "    </tr>\n",
       "  </thead>\n",
       "  <tbody>\n",
       "    <tr>\n",
       "      <th>2015-01-01</th>\n",
       "      <td>33.0</td>\n",
       "      <td>1.0</td>\n",
       "      <td>130.50</td>\n",
       "      <td>5.63</td>\n",
       "    </tr>\n",
       "    <tr>\n",
       "      <th>2015-01-02</th>\n",
       "      <td>0.0</td>\n",
       "      <td>NaN</td>\n",
       "      <td>93.50</td>\n",
       "      <td>4.98</td>\n",
       "    </tr>\n",
       "    <tr>\n",
       "      <th>2015-01-03</th>\n",
       "      <td>0.0</td>\n",
       "      <td>20.5</td>\n",
       "      <td>79.12</td>\n",
       "      <td>4.69</td>\n",
       "    </tr>\n",
       "    <tr>\n",
       "      <th>2015-01-04</th>\n",
       "      <td>11.5</td>\n",
       "      <td>2.0</td>\n",
       "      <td>91.08</td>\n",
       "      <td>4.94</td>\n",
       "    </tr>\n",
       "    <tr>\n",
       "      <th>2015-01-05</th>\n",
       "      <td>2.0</td>\n",
       "      <td>NaN</td>\n",
       "      <td>76.00</td>\n",
       "      <td>4.61</td>\n",
       "    </tr>\n",
       "  </tbody>\n",
       "</table>\n",
       "</div>"
      ],
      "text/plain": [
       "            curah_hujan_DK  curah_hujan_BS  debit_sungai_m3_per_detik  \\\n",
       "Tanggal                                                                 \n",
       "2015-01-01            33.0             1.0                     130.50   \n",
       "2015-01-02             0.0             NaN                      93.50   \n",
       "2015-01-03             0.0            20.5                      79.12   \n",
       "2015-01-04            11.5             2.0                      91.08   \n",
       "2015-01-05             2.0             NaN                      76.00   \n",
       "\n",
       "            tinggi_muka_air_m  \n",
       "Tanggal                        \n",
       "2015-01-01               5.63  \n",
       "2015-01-02               4.98  \n",
       "2015-01-03               4.69  \n",
       "2015-01-04               4.94  \n",
       "2015-01-05               4.61  "
      ]
     },
     "execution_count": 3,
     "metadata": {},
     "output_type": "execute_result"
    }
   ],
   "source": [
    "df_interp['Tanggal'] = pd.to_datetime(df_interp['Tanggal'], errors='coerce')\n",
    "df_interp = df_interp.sort_values(by='Tanggal')\n",
    "df_interp.set_index('Tanggal', inplace=True)\n",
    "\n",
    "df_interp.head()"
   ]
  },
  {
   "cell_type": "code",
   "execution_count": null,
   "metadata": {},
   "outputs": [],
   "source": [
    "numeric_cols = ['curah_hujan_DK', 'curah_hujan_BS', 'debit_sungai_m3_per_detik', 'tinggi_muka_air_m']\n",
    "df_interp[numeric_cols] = df_interp[numeric_cols].interpolate(method='time', limit_direction='forward')\n"
   ]
  }
 ],
 "metadata": {
  "kernelspec": {
   "display_name": ".env",
   "language": "python",
   "name": "python3"
  },
  "language_info": {
   "codemirror_mode": {
    "name": "ipython",
    "version": 3
   },
   "file_extension": ".py",
   "mimetype": "text/x-python",
   "name": "python",
   "nbconvert_exporter": "python",
   "pygments_lexer": "ipython3",
   "version": "3.13.2"
  }
 },
 "nbformat": 4,
 "nbformat_minor": 2
}
